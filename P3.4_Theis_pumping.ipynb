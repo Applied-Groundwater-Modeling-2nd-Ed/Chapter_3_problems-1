{
 "metadata": {
  "name": "",
  "signature": "sha256:c1ca104c052d6dc630564a62be59f12d4ed090e3deae033a87b6ae9ad360f95c"
 },
 "nbformat": 3,
 "nbformat_minor": 0,
 "worksheets": [
  {
   "cells": [
    {
     "cell_type": "markdown",
     "metadata": {},
     "source": [
      "#Problem P3.4 Theis solution with two pumping\n",
      "\n",
      "In this notebook, we will work through one tutorial based the Theis solution for transient pumping, and investigate the superposition of drawdown from two interfering pumping wells. Two wells fully penetrate a 20-m-thick confined aquifer that is isotropic and homogeneous (Fig. P3.1). Storativity is estimated to be 2 x 10^5. The hydraulic conductivity is 100 m/d. The confining unit is composed of very low permeability material and is approximated as impermeable. Both wells have a radius of 0.5 m and are pumped continuously at a constant rate for 30 days; well A is pumped at 4000 L/min and well B is pumped at 12,000 L/min. Before pumping, the head is 100 m everywhere in the problem domain. The 800 m by 500 m problem domain in Fig. P3.1 is the near-field region of a problem domain that extends over many tens of square kilometers so that the aquifer effectively is of infinite extent and the composite cone of depression does not reach the boundaries after 30 days of pumping.\n",
      "\n",
      "We simpflied it to look like this:\n",
      "\n",
      "<img src=\"P3.4_figure.tiff\">\n",
      "\n",
      "Below is an iPython Notebook that builds a Theis function and plots results.  "
     ]
    },
    {
     "cell_type": "code",
     "collapsed": false,
     "input": [
      "# Problem 3.4, page 107 Anderson, Woessner and Hunt (2015)\n",
      "\n",
      "# import Python libraries/functionality for use in this notebook\n",
      "%matplotlib inline\n",
      "import numpy as np\n",
      "import numpy as np\n",
      "import matplotlib.pyplot as plt\n",
      "import scipy.special\n",
      "import sys, os\n",
      "from mpl_toolkits.axes_grid1 import make_axes_locatable\n",
      "\n",
      "# return current working directory\n",
      "os.getcwd()"
     ],
     "language": "python",
     "metadata": {},
     "outputs": [
      {
       "metadata": {},
       "output_type": "pyout",
       "prompt_number": 16,
       "text": [
        "'/Users/rjhunt1/Desktop/USGS_Network/Python_class_2015/GW1774-master/ClassMaterials/Exercises/Notebooks/Theis'"
       ]
      }
     ],
     "prompt_number": 16
    },
    {
     "cell_type": "code",
     "collapsed": false,
     "input": [
      "#Define an function, class, and object for Theis Well analysis\n",
      "\n",
      "def well_function(u):\n",
      "    return scipy.special.exp1(u)\n",
      "\n",
      "def theis(Q, T, S, r, t):\n",
      "    u = r ** 2 * S / 4. / T / t\n",
      "    s = Q / 4. / np.pi / T * well_function(u)\n",
      "    return s\n",
      "\n",
      "class Well(object):\n",
      "    def __init__(self, x, y, rate, name):\n",
      "        self.x = float(x)\n",
      "        self.y = float(y)\n",
      "        self.rate = rate\n",
      "        self.name = name\n",
      "        self.swell = None\n",
      "        return"
     ],
     "language": "python",
     "metadata": {},
     "outputs": [],
     "prompt_number": 3
    },
    {
     "cell_type": "code",
     "collapsed": false,
     "input": [
      "# Parameters needed to solve Theis\n",
      "r = 500      # m\n",
      "T = 2000     # m^2/d (100 m/d Kh x 20 m thick)\n",
      "S = 0.00002  # unitless\n",
      "t = 30.      # days\n",
      "\n",
      "#Q = pumping rate # m^3/d - but we'll enter it below in the well info"
     ],
     "language": "python",
     "metadata": {},
     "outputs": [],
     "prompt_number": 4
    },
    {
     "cell_type": "code",
     "collapsed": false,
     "input": [
      "# Well information\n",
      "well_list =[]\n",
      "well_obj = Well(250, 250, 5760, \"Well A\")  # 4000 L/min = 5760 m^3/d\n",
      "well_list.append(well_obj)\n",
      "well_list.append(Well(550, 250, 17280, \"Well B\")) # 12000 L/min = 17280 m^3/d\n",
      "\n",
      "# Grid information as requested in problem\n",
      "x = np.linspace(0, 800., 50)  # x-direction 0 to 800 m, 50 m increments\n",
      "y = np.linspace(0, 500., 50)  # y-direction 0 to 500 m, 50 m increments\n",
      "xgrid, ygrid = np.meshgrid(x, y) # make a grid with these coordinates"
     ],
     "language": "python",
     "metadata": {},
     "outputs": [],
     "prompt_number": 5
    },
    {
     "cell_type": "markdown",
     "metadata": {},
     "source": [
      "###We want to explore drawdown as a function of time\n",
      "So, set up an array of times to evaluate, and loop over them. Also, we can specify a distance from each well at which to calculate the curve of drawdown over time."
     ]
    },
    {
     "cell_type": "code",
     "collapsed": false,
     "input": [
      "times = np.linspace(0.,30.,31) # linear interpolation of time from 0 to 30 days, make 30 increments days at 0.5\n",
      "rdist = 25  # this sets the distance to plot drawdown over time\n",
      "print times"
     ],
     "language": "python",
     "metadata": {},
     "outputs": [
      {
       "output_type": "stream",
       "stream": "stdout",
       "text": [
        "[  0.   1.   2.   3.   4.   5.   6.   7.   8.   9.  10.  11.  12.  13.  14.\n",
        "  15.  16.  17.  18.  19.  20.  21.  22.  23.  24.  25.  26.  27.  28.  29.\n",
        "  30.]\n"
       ]
      }
     ],
     "prompt_number": 10
    },
    {
     "cell_type": "markdown",
     "metadata": {},
     "source": [
      "###We will want to normalize our plots\n",
      "Let's figure out the maximum drawdown to use for setting our colorbar on the plots.  tres pretty"
     ]
    },
    {
     "cell_type": "code",
     "collapsed": false,
     "input": [
      "#let's find the maximum drawdown\n",
      "drawdown_grid_max = np.zeros(xgrid.shape, dtype=float)\n",
      "for well_obj in well_list:\n",
      "    r = ((well_obj.x - xgrid)**2 + (well_obj.y - ygrid) ** 2) ** 0.5\n",
      "    s_max = theis(well_obj.rate, T, S, r, times[-1])\n",
      "    drawdown_grid_max += s_max\n",
      "max_drawdown = np.max(drawdown_grid_max)\n",
      "print max_drawdown"
     ],
     "language": "python",
     "metadata": {},
     "outputs": [
      {
       "output_type": "stream",
       "stream": "stdout",
       "text": [
        "15.4068299862\n"
       ]
      }
     ],
     "prompt_number": 11
    },
    {
     "cell_type": "markdown",
     "metadata": {},
     "source": [
      "###Clobber the PNG output files\n",
      "We will make a sequence of PNG files from which to render the movie. It's a good idea to delete the existing ones from our folder. \n",
      "\n",
      "**do this kind of thing with caution!** \n",
      "\n",
      "**You are deleting files and will _not_ be asked to confirm anything!**"
     ]
    },
    {
     "cell_type": "code",
     "collapsed": false,
     "input": [
      "for cf in os.listdir(os.getcwd()):\n",
      "    if cf.endswith('.png'):\n",
      "        os.remove(cf)"
     ],
     "language": "python",
     "metadata": {},
     "outputs": [],
     "prompt_number": 12
    },
    {
     "cell_type": "markdown",
     "metadata": {},
     "source": [
      "###Loop over time and make figures\n",
      "We will make a figure with the drawdown contours over the whole grid, and another with the addition of a plot of drawdown over time at a distance of `rdist` from each well. NB --> this second calculation doesn't take account of both wells. We could do so, how might we?"
     ]
    },
    {
     "cell_type": "code",
     "collapsed": false,
     "input": [
      "# Note that this section of code is saving figures for animation - not plotting them!\n",
      "\n",
      "from IPython.display import clear_output\n",
      "# to make our plots of drawdown over time a one point, we can\n",
      "# predefine the response as np.nan. That way, when we plot incrementally\n",
      "# as we calculate through time, only the times for which calculations\n",
      "# have been made will appear using plt.plot()\n",
      "for well_obj in well_list:\n",
      "    well_obj.swell = np.ones_like(times)*np.nan\n",
      "    \n",
      "\n",
      "# using \"enumerate\" we get both the iterant (t) and a counter (i)    \n",
      "for i,t in enumerate(times):\n",
      "    # the following stuff just writes out a status message to the screen\n",
      "    clear_output()\n",
      "    perc_done = (i/float(len(times))) * 100\n",
      "    sys.stdout.write('working on time {0}: {1:2.2f}% complete'.format(t,\n",
      "                                                                      perc_done))\n",
      "    if i < len(times):\n",
      "        sys.stdout.flush()\n",
      "    # here's the end of the silly shenanigans of plotting out status to the screen    \n",
      "\n",
      "    # now we calculate the drawdown for each time.\n",
      "    drawdown_grid = np.zeros(xgrid.shape, dtype=float)\n",
      "    for well_obj in well_list:\n",
      "        r = ((well_obj.x - xgrid)**2 + (well_obj.y - ygrid) ** 2) ** 0.5\n",
      "        s = theis(well_obj.rate, T, S, r, t)\n",
      "        well_obj.swell[i] = (theis(well_obj.rate, T, S, rdist, t))\n",
      "        drawdown_grid += s\n",
      "     \n",
      "   \n",
      "    # drawdown field and at a point \n",
      "    plt.subplot(1, 3, 1, aspect='equal')\n",
      "    im = plt.contourf(xgrid, \n",
      "                 ygrid, \n",
      "                 drawdown_grid, \n",
      "                 np.linspace(0,max_drawdown,10))\n",
      "    # crazy stuff to make the colorbar fit better. very optional!\n",
      "    divider = make_axes_locatable(plt.gca())\n",
      "    cax = divider.append_axes(\"right\", \"5%\", pad=\"3%\")\n",
      "    plt.colorbar(im, cax=cax)\n",
      "    for well_obj in well_list:\n",
      "        plt.text(well_obj.x, well_obj.y, well_obj.name)\n",
      "    plt.title('Drawdown at time = {0:.0f}'.format(t))\n",
      "    \n",
      "    # also plot drawdown at a point from Well A\n",
      "    ax = plt.subplot(1,3,2)\n",
      "    plt.hold(True)\n",
      "    plt.plot(times,well_list[0].swell)      #remember 0 index in Python\n",
      "    plt.plot(t,well_list[0].swell[i],'ro')\n",
      "    ax.set_xlim([0,times[-1]])\n",
      "    ax.set_ylim([0,max_drawdown])\n",
      "    plt.tight_layout()\n",
      "    plt.savefig('s{0}.png'.format(i))\n",
      "    plt.close()\n",
      "    \n",
      "    # also plot drawdown at a point\n",
      "    ax = plt.subplot(1,3,3)\n",
      "    plt.hold(True)\n",
      "    plt.plot(times,well_list[1].swell)\n",
      "    plt.plot(t,well_list[1].swell[i],'bo')\n",
      "    ax.set_xlim([0,times[-1]])\n",
      "    ax.set_ylim([0,max_drawdown])\n",
      "    plt.tight_layout()\n",
      "    plt.savefig('s1{0}.png'.format(i))\n",
      "    plt.close()\n",
      "    \n",
      "# Let's finish with a drawdown only plot --> make a second set of figures with only the \n",
      "    # make a plot    \n",
      "    plt.subplot(1, 1, 1, aspect='equal')\n",
      "    im = plt.contourf(xgrid, \n",
      "                 ygrid, \n",
      "                 drawdown_grid, \n",
      "                 np.linspace(0,max_drawdown,10))\n",
      "    plt.colorbar()\n",
      "    for well_obj in well_list:\n",
      "        plt.text(well_obj.x, well_obj.y, well_obj.name)\n",
      "    plt.title('Drawdown at time = {0:.0f}'.format(t))\n",
      "    plt.savefig('s_only{0}.png'.format(i))"
     ],
     "language": "python",
     "metadata": {},
     "outputs": [
      {
       "output_type": "stream",
       "stream": "stdout",
       "text": [
        "working on time 30.0: 96.77% complete"
       ]
      },
      {
       "metadata": {},
       "output_type": "display_data",
       "png": "[encoded data removed]",
       "text": [
        "<matplotlib.figure.Figure at 0x112ee6cd0>"
       ]
      }
     ],
     "prompt_number": 13
    },
    {
     "cell_type": "markdown",
     "metadata": {},
     "source": [
      "###Let's make an animation!"
     ]
    },
    {
     "cell_type": "code",
     "collapsed": false,
     "input": [
      "# for the class, we need to determine where ffmpeg lives\n",
      "# in general, you probably won't need to bother\n",
      "import platform\n",
      "from subprocess import check_output\n",
      "if 'Windows' in platform.platform():\n",
      "    if '64bit' in platform.architecture()[0]:\n",
      "        ffmpeg_path = os.path.join(binpath, 'ffmpeg.exe')\n",
      "    else:\n",
      "        ffmpeg_path = os.path.join(binpath, 'win32', 'ffmpeg.exe')\n",
      "else:\n",
      "    #Assume it is in path on macos\n",
      "    ffmpeg_path = 'ffmpeg'\n",
      "print 'ffmpeg_path is: ', ffmpeg_path\n",
      "\n",
      "figfiles = ['s_only%d.png','s%d.png','s1%d.png']\n",
      "anmfiles = ['Theis_movie1.mp4','Theis_movie2.mp4','Theis_movie3.mp4']\n",
      "\n",
      "# note the tricky way we can iterate over the elements of \n",
      "# two lists in pairs using zip\n",
      "for figfile,anmfile in zip(figfiles,anmfiles):\n",
      "    try:\n",
      "        os.remove(anmfile)\n",
      "        print 'Deleted the existing animation: ', anmfile\n",
      "    except:\n",
      "        pass\n",
      "    # now we do a system call, making the movie using command line arguments\n",
      "    # for ffmpeg\n",
      "    output = check_output([ffmpeg_path, \n",
      "                '-f', 'image2', \n",
      "                '-i', figfile, \n",
      "                '-vcodec', 'libx264',\n",
      "                '-pix_fmt', 'yuv420p',\n",
      "                anmfile])"
     ],
     "language": "python",
     "metadata": {},
     "outputs": [
      {
       "output_type": "stream",
       "stream": "stdout",
       "text": [
        "ffmpeg_path is:  ffmpeg\n",
        "Deleted the existing animation:  Theis_movie1.mp4\n",
        "Deleted the existing animation: "
       ]
      },
      {
       "output_type": "stream",
       "stream": "stdout",
       "text": [
        " Theis_movie2.mp4\n",
        "Deleted the existing animation: "
       ]
      },
      {
       "output_type": "stream",
       "stream": "stdout",
       "text": [
        " Theis_movie3.mp4\n"
       ]
      }
     ],
     "prompt_number": 14
    },
    {
     "cell_type": "code",
     "collapsed": false,
     "input": [
      "# finally, we can embed the movie in the notebook\n",
      "# we could also look at it outside of the notebook with no trouble\n",
      "from IPython.display import HTML\n",
      "from base64 import b64encode\n",
      "video = open(anmfiles[2], \"rb\").read()\n",
      "video_encoded = b64encode(video)\n",
      "video_tag = '<video controls alt=\"test\" src=\"data:video/x-m4v;base64,{0}\">'.format(video_encoded)\n",
      "HTML(data=video_tag)"
     ],
     "language": "python",
     "metadata": {},
     "outputs": [
      {
       "html": [
        "<video controls alt=\"test\" src=\"data:video/x-m4v;base64,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\">"
       ],
       "metadata": {},
       "output_type": "pyout",
       "prompt_number": 15,
       "text": [
        "<IPython.core.display.HTML at 0x10685bc50>"
       ]
      }
     ],
     "prompt_number": 15
    },
    {
     "cell_type": "code",
     "collapsed": false,
     "input": [],
     "language": "python",
     "metadata": {},
     "outputs": [],
     "prompt_number": 10
    },
    {
     "cell_type": "code",
     "collapsed": false,
     "input": [],
     "language": "python",
     "metadata": {},
     "outputs": [],
     "prompt_number": 10
    },
    {
     "cell_type": "code",
     "collapsed": false,
     "input": [],
     "language": "python",
     "metadata": {},
     "outputs": [],
     "prompt_number": 10
    },
    {
     "cell_type": "code",
     "collapsed": false,
     "input": [],
     "language": "python",
     "metadata": {},
     "outputs": [],
     "prompt_number": 10
    }
   ],
   "metadata": {}
  }
 ]
}