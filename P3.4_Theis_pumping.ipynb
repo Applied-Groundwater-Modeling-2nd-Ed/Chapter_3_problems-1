{
 "metadata": {
  "name": "",
  "signature": "sha256:51552bf5238a6b256f735732cfcc3a5980bde0a46621cd567cb3a9592b74ce62"
 },
 "nbformat": 3,
 "nbformat_minor": 0,
 "worksheets": [
  {
   "cells": [
    {
     "cell_type": "markdown",
     "metadata": {},
     "source": [
      "#Problem P3.4 Theis solution with two pumping\n",
      "\n",
      "In this notebook, we will work through one tutorial based the Theis solution for transient pumping, and investigate the superposition of drawdown from two interfering pumping wells. Two wells fully penetrate a 20-m-thick confined aquifer that is isotropic and homogeneous (Fig. P3.1). Storativity is estimated to be $2 x 10^{-5}$. The hydraulic conductivity is 100 m/d. The confining unit is composed of very low permeability material and is approximated as impermeable. Both wells have a radius of 0.5 m and are pumped continuously at a constant rate for 30 days; well A is pumped at 4000 L/min and well B is pumped at 12,000 L/min. Before pumping, the head is 100 m everywhere in the problem domain. The 800 m by 500 m problem domain in Fig. P3.1 is the near-field region of a problem domain that extends over many tens of square kilometers so that the aquifer effectively is of infinite extent and the composite cone of depression does not reach the boundaries after 30 days of pumping.\n",
      "\n",
      "We simpflied it to look like this:\n",
      "\n",
      "<img src=\"P3.4_figure.tiff\">\n",
      "\n",
      "Below is an iPython Notebook that builds a Theis function and plots results.  "
     ]
    },
    {
     "cell_type": "code",
     "collapsed": false,
     "input": [
      "# Problem 3.4, page 107 Anderson, Woessner and Hunt (2015)\n",
      "\n",
      "# import Python libraries/functionality for use in this notebook\n",
      "%matplotlib inline\n",
      "import numpy as np\n",
      "import matplotlib.pyplot as plt\n",
      "import scipy.special\n",
      "import sys, os\n",
      "from mpl_toolkits.axes_grid1 import make_axes_locatable\n",
      "\n",
      "# return current working directory\n",
      "os.getcwd()"
     ],
     "language": "python",
     "metadata": {},
     "outputs": [
      {
       "metadata": {},
       "output_type": "pyout",
       "prompt_number": 2,
       "text": [
        "'/Users/brclark/brc/tools/appliedGWmodeling/Chapter_3_problems-1'"
       ]
      }
     ],
     "prompt_number": 2
    },
    {
     "cell_type": "code",
     "collapsed": false,
     "input": [
      "#Define an function, class, and object for Theis Well analysis\n",
      "\n",
      "def well_function(u):\n",
      "    return scipy.special.exp1(u)\n",
      "\n",
      "def theis(Q, T, S, r, t):\n",
      "    u = r ** 2 * S / 4. / T / t\n",
      "    s = Q / 4. / np.pi / T * well_function(u)\n",
      "    return s\n",
      "\n",
      "class Well(object):\n",
      "    def __init__(self, x, y, rate, name):\n",
      "        self.x = float(x)\n",
      "        self.y = float(y)\n",
      "        self.rate = rate\n",
      "        self.name = name\n",
      "        self.swell = None\n",
      "        return"
     ],
     "language": "python",
     "metadata": {},
     "outputs": [],
     "prompt_number": 3
    },
    {
     "cell_type": "code",
     "collapsed": false,
     "input": [
      "# Parameters needed to solve Theis\n",
      "r = 500      # m\n",
      "T = 2000     # m^2/d (100 m/d Kh x 20 m thick)\n",
      "S = 0.00002  # unitless\n",
      "t = 30.      # days\n",
      "\n",
      "#Q = pumping rate # m^3/d - but we'll enter it below in the well info"
     ],
     "language": "python",
     "metadata": {},
     "outputs": [],
     "prompt_number": 4
    },
    {
     "cell_type": "code",
     "collapsed": false,
     "input": [
      "# Well information\n",
      "well_list =[]\n",
      "well_obj = Well(250, 250, 5760, \"Well A\")  # 4000 L/min = 5760 m^3/d\n",
      "well_list.append(well_obj)\n",
      "well_list.append(Well(550, 250, 17280, \"Well B\")) # 12000 L/min = 17280 m^3/d\n",
      "\n",
      "# Grid information as requested in problem\n",
      "x = np.linspace(0, 800., 50)  # x-direction 0 to 800 m, 50 m increments\n",
      "y = np.linspace(0, 500., 50)  # y-direction 0 to 500 m, 50 m increments\n",
      "xgrid, ygrid = np.meshgrid(x, y) # make a grid with these coordinates"
     ],
     "language": "python",
     "metadata": {},
     "outputs": [],
     "prompt_number": 5
    },
    {
     "cell_type": "markdown",
     "metadata": {},
     "source": [
      "###We want to explore drawdown as a function of time\n",
      "So, set up an array of times to evaluate, and loop over them. Also, we can specify a distance from each well at which to calculate the curve of drawdown over time."
     ]
    },
    {
     "cell_type": "code",
     "collapsed": false,
     "input": [
      "times = np.linspace(0.,30.,31) # linear interpolation of time from 0 to 30 days, make 30 increments days at 0.5\n",
      "rdist = 25  # this sets the distance to plot drawdown over time\n",
      "print times"
     ],
     "language": "python",
     "metadata": {},
     "outputs": [
      {
       "output_type": "stream",
       "stream": "stdout",
       "text": [
        "[  0.   1.   2.   3.   4.   5.   6.   7.   8.   9.  10.  11.  12.  13.  14.\n",
        "  15.  16.  17.  18.  19.  20.  21.  22.  23.  24.  25.  26.  27.  28.  29.\n",
        "  30.]\n"
       ]
      }
     ],
     "prompt_number": 6
    },
    {
     "cell_type": "markdown",
     "metadata": {},
     "source": [
      "###We will want to normalize our plots\n",
      "Let's figure out the maximum drawdown to use for setting our colorbar on the plots."
     ]
    },
    {
     "cell_type": "code",
     "collapsed": false,
     "input": [
      "#let's find the maximum drawdown\n",
      "drawdown_grid_max = np.zeros(xgrid.shape, dtype=float)\n",
      "for well_obj in well_list:\n",
      "    r = ((well_obj.x - xgrid)**2 + (well_obj.y - ygrid) ** 2) ** 0.5\n",
      "    s_max = theis(well_obj.rate, T, S, r, times[-1])\n",
      "    drawdown_grid_max += s_max\n",
      "max_drawdown = np.max(drawdown_grid_max)\n",
      "print max_drawdown"
     ],
     "language": "python",
     "metadata": {},
     "outputs": [
      {
       "output_type": "stream",
       "stream": "stdout",
       "text": [
        "15.4068299862\n"
       ]
      }
     ],
     "prompt_number": 7
    },
    {
     "cell_type": "markdown",
     "metadata": {},
     "source": [
      "###Clobber the PNG output files\n",
      "We will make a sequence of PNG files from which to render the movie. It's a good idea to delete the existing ones from our folder. \n",
      "\n",
      "**do this kind of thing with caution!** \n",
      "\n",
      "**You are deleting files and will _not_ be asked to confirm anything!**"
     ]
    },
    {
     "cell_type": "code",
     "collapsed": false,
     "input": [
      "for cf in os.listdir(os.getcwd()):\n",
      "    if cf.endswith('.png'):\n",
      "        os.remove(cf)"
     ],
     "language": "python",
     "metadata": {},
     "outputs": [],
     "prompt_number": 8
    },
    {
     "cell_type": "markdown",
     "metadata": {},
     "source": [
      "###Loop over time and make figures\n",
      "We will make a figure with the drawdown contours over the whole grid, and another with the addition of a plot of drawdown over time at a distance of `rdist` from each well. NB --> this second calculation doesn't take account of both wells. We could do so, how might we?"
     ]
    },
    {
     "cell_type": "code",
     "collapsed": false,
     "input": [
      "# Note that this section of code is saving figures for animation - not plotting them!\n",
      "\n",
      "from IPython.display import clear_output\n",
      "# to make our plots of drawdown over time a one point, we can\n",
      "# predefine the response as np.nan. That way, when we plot incrementally\n",
      "# as we calculate through time, only the times for which calculations\n",
      "# have been made will appear using plt.plot()\n",
      "for well_obj in well_list:\n",
      "    well_obj.swell = np.ones_like(times)*np.nan\n",
      "    \n",
      "\n",
      "# using \"enumerate\" we get both the iterant (t) and a counter (i)    \n",
      "for i,t in enumerate(times):\n",
      "    # the following stuff just writes out a status message to the screen\n",
      "    clear_output()\n",
      "    perc_done = (i/float(len(times)-1)) * 100\n",
      "    sys.stdout.write('working on time {0}: {1:2.2f}% complete'.format(t,\n",
      "                                                                      perc_done))\n",
      "    if i < len(times):\n",
      "        sys.stdout.flush()\n",
      "    # here's the end of the silly shenanigans of plotting out status to the screen    \n",
      "\n",
      "    # now we calculate the drawdown for each time.\n",
      "    drawdown_grid = np.zeros(xgrid.shape, dtype=float)\n",
      "    for well_obj in well_list:\n",
      "        r = ((well_obj.x - xgrid)**2 + (well_obj.y - ygrid) ** 2) ** 0.5\n",
      "        s = theis(well_obj.rate, T, S, r, t)\n",
      "        well_obj.swell[i] = (theis(well_obj.rate, T, S, rdist, t))\n",
      "        drawdown_grid += s\n",
      "     \n",
      "   \n",
      "    # drawdown field and at a point \n",
      "    plt.subplot(1, 3, 1, aspect='equal')\n",
      "    im = plt.contourf(xgrid, \n",
      "                 ygrid, \n",
      "                 drawdown_grid, \n",
      "                 np.linspace(0,max_drawdown,10))\n",
      "    # crazy stuff to make the colorbar fit better. very optional!\n",
      "    divider = make_axes_locatable(plt.gca())\n",
      "    cax = divider.append_axes(\"right\", \"5%\", pad=\"3%\")\n",
      "    plt.colorbar(im, cax=cax).ax.invert_yaxis()\n",
      "    for well_obj in well_list:\n",
      "        plt.text(well_obj.x, well_obj.y, well_obj.name)\n",
      "    plt.title('Drawdown at time = {0:.0f}'.format(t))\n",
      "    \n",
      "    # also plot drawdown at a point from Well A\n",
      "    ax = plt.subplot(1,3,2)\n",
      "    plt.hold(True)\n",
      "    plt.plot(times,well_list[0].swell)      #remember 0 index in Python\n",
      "    plt.plot(t,well_list[0].swell[i],'ro')\n",
      "    ax.set_xlim([0,times[-1]])\n",
      "    ax.set_ylim([0,max_drawdown])\n",
      "    plt.tight_layout()\n",
      "    plt.savefig('s{0}.png'.format(i))\n",
      "    plt.close()\n",
      "    \n",
      "    # also plot drawdown at a point\n",
      "    ax = plt.subplot(1,3,3)\n",
      "    plt.hold(True)\n",
      "    plt.plot(times,well_list[1].swell)\n",
      "    plt.plot(t,well_list[1].swell[i],'bo')\n",
      "    ax.set_xlim([0,times[-1]])\n",
      "    ax.set_ylim([0,max_drawdown])\n",
      "    plt.tight_layout()\n",
      "    plt.savefig('spt{0}.png'.format(i))\n",
      "    plt.close()\n",
      "    \n",
      "# Let's finish with a drawdown only plot --> make a second set of figures with only the \n",
      "    # make a plot    \n",
      "    plt.subplot(1, 1, 1, aspect='equal')\n",
      "    im = plt.contourf(xgrid, \n",
      "                 ygrid, \n",
      "                 drawdown_grid, \n",
      "                 np.linspace(0,max_drawdown,10))\n",
      "    plt.colorbar().ax.invert_yaxis()\n",
      "    for well_obj in well_list:\n",
      "        plt.text(well_obj.x, well_obj.y, well_obj.name)\n",
      "    plt.title('Drawdown at time = {0:.0f}'.format(t))\n",
      "    plt.savefig('s_only{0}.png'.format(i))"
     ],
     "language": "python",
     "metadata": {},
     "outputs": [
      {
       "output_type": "stream",
       "stream": "stdout",
       "text": [
        "working on time 30.0: 100.00% complete"
       ]
      },
      {
       "metadata": {},
       "output_type": "display_data",
       "png": "[encoded data removed]",
       "text": [
        "<matplotlib.figure.Figure at 0x1141dfc90>"
       ]
      }
     ],
     "prompt_number": 13
    },
    {
     "cell_type": "markdown",
     "metadata": {},
     "source": [
      "###Let's make an animation!"
     ]
    },
    {
     "cell_type": "code",
     "collapsed": false,
     "input": [
      "# for the class, we need to determine where ffmpeg lives\n",
      "# in general, you probably won't need to bother\n",
      "import platform\n",
      "from subprocess import check_output\n",
      "if 'Windows' in platform.platform():\n",
      "    if '64bit' in platform.architecture()[0]:\n",
      "        ffmpeg_path = os.path.join(binpath, 'ffmpeg.exe')\n",
      "    else:\n",
      "        ffmpeg_path = os.path.join(binpath, 'win32', 'ffmpeg.exe')\n",
      "else:\n",
      "    #Assume it is in path on macos\n",
      "    ffmpeg_path = 'ffmpeg'\n",
      "print 'ffmpeg_path is: ', ffmpeg_path\n",
      "\n",
      "figfiles = ['s_only%d.png','s%d.png','spt%d.png']\n",
      "anmfiles = ['Theis_movie1.mp4','Theis_movie2.mp4','Theis_movie3.mp4']\n",
      "\n",
      "# note the tricky way we can iterate over the elements of \n",
      "# two lists in pairs using zip\n",
      "for figfile,anmfile in zip(figfiles,anmfiles):\n",
      "    try:\n",
      "        os.remove(anmfile)\n",
      "        print 'Deleted the existing animation: ', anmfile\n",
      "    except:\n",
      "        pass\n",
      "    # now we do a system call, making the movie using command line arguments\n",
      "    # for ffmpeg\n",
      "    output = check_output([ffmpeg_path, \n",
      "                '-f', 'image2', \n",
      "                '-i', figfile, \n",
      "                '-vcodec', 'libx264',\n",
      "                '-pix_fmt', 'yuv420p',\n",
      "                anmfile])"
     ],
     "language": "python",
     "metadata": {},
     "outputs": [
      {
       "output_type": "stream",
       "stream": "stdout",
       "text": [
        "ffmpeg_path is:  ffmpeg\n",
        "Deleted the existing animation:  Theis_movie1.mp4\n",
        "Deleted the existing animation: "
       ]
      },
      {
       "output_type": "stream",
       "stream": "stdout",
       "text": [
        " Theis_movie2.mp4\n",
        "Deleted the existing animation: "
       ]
      },
      {
       "output_type": "stream",
       "stream": "stdout",
       "text": [
        " Theis_movie3.mp4\n"
       ]
      }
     ],
     "prompt_number": 14
    },
    {
     "cell_type": "code",
     "collapsed": false,
     "input": [
      "# finally, we can embed the movie in the notebook\n",
      "# we could also look at it outside of the notebook with no trouble\n",
      "from IPython.display import HTML\n",
      "from base64 import b64encode\n",
      "video = open(anmfiles[2], \"rb\").read()\n",
      "video_encoded = b64encode(video)\n",
      "video_tag = '<video controls alt=\"test\" src=\"data:video/x-m4v;base64,{0}\">'.format(video_encoded)\n",
      "HTML(data=video_tag)"
     ],
     "language": "python",
     "metadata": {},
     "outputs": [
      {
       "html": [
        "<video controls alt=\"test\" src=\"data:video/x-m4v;base64,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\">"
       ],
       "metadata": {},
       "output_type": "pyout",
       "prompt_number": 15,
       "text": [
        "<IPython.core.display.HTML at 0x11af5e290>"
       ]
      }
     ],
     "prompt_number": 15
    },
    {
     "cell_type": "code",
     "collapsed": false,
     "input": [],
     "language": "python",
     "metadata": {},
     "outputs": [],
     "prompt_number": 10
    },
    {
     "cell_type": "code",
     "collapsed": false,
     "input": [],
     "language": "python",
     "metadata": {},
     "outputs": [],
     "prompt_number": 10
    },
    {
     "cell_type": "code",
     "collapsed": false,
     "input": [],
     "language": "python",
     "metadata": {},
     "outputs": [],
     "prompt_number": 10
    },
    {
     "cell_type": "code",
     "collapsed": false,
     "input": [],
     "language": "python",
     "metadata": {},
     "outputs": [],
     "prompt_number": 10
    }
   ],
   "metadata": {}
  }
 ]
}